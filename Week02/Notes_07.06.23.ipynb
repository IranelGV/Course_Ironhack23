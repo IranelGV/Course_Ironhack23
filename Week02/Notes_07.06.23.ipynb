{
 "cells": [
  {
   "cell_type": "code",
   "execution_count": 1,
   "id": "a0db4372",
   "metadata": {},
   "outputs": [],
   "source": [
    "import pandas as pd"
   ]
  },
  {
   "cell_type": "code",
   "execution_count": null,
   "id": "1485b9f3",
   "metadata": {},
   "outputs": [],
   "source": [
    "customer_data.types"
   ]
  },
  {
   "cell_type": "code",
   "execution_count": null,
   "id": "08a75c23",
   "metadata": {},
   "outputs": [],
   "source": [
    "null_count = customer_data"
   ]
  },
  {
   "cell_type": "markdown",
   "id": "7ed8ab73",
   "metadata": {},
   "source": [
    "axes equal 0 iis by default"
   ]
  },
  {
   "cell_type": "markdown",
   "id": "f519384a",
   "metadata": {},
   "source": [
    "we need to reset the index!!!!\n",
    "\n",
    "After we delate the values because this will count like"
   ]
  },
  {
   "cell_type": "code",
   "execution_count": null,
   "id": "be4e64fa",
   "metadata": {},
   "outputs": [],
   "source": [
    "we need to save!!! customer_data.to_csv(\"cleaned_data\", index = False)"
   ]
  },
  {
   "cell_type": "code",
   "execution_count": null,
   "id": "08e8f5b0",
   "metadata": {},
   "outputs": [],
   "source": [
    "duplicates= customer_data.duplicated(\"Customer\")\n",
    "pd.DataFrame(duplicates).value_counts()"
   ]
  },
  {
   "cell_type": "code",
   "execution_count": null,
   "id": "6134c01a",
   "metadata": {
    "collapsed": true
   },
   "outputs": [],
   "source": [
    "podemos usar series para filtrar los datos o loc"
   ]
  },
  {
   "cell_type": "code",
   "execution_count": null,
   "id": "86ae3b96",
   "metadata": {},
   "outputs": [],
   "source": [
    "Pandas data frame 1.. looking for this class\n",
    "\n",
    "duplicates= customer_data.duplicates(\"customer\")\n",
    "\n",
    "customer_data = customer_data.drop_duplicates(keep=\"first\")\n",
    "\n",
    "we used boolean \n",
    "\n",
    "we can filter values using boolean adding a nuew column and adding in this column the result in the condition we put.\n",
    "\n",
    "\n",
    "we can use also logical operator | or  & and   not ~ \n",
    "\n",
    "we can crate bad students filter\n",
    "\n",
    "= students_df[students_df]"
   ]
  },
  {
   "cell_type": "code",
   "execution_count": null,
   "id": "7e19a37c",
   "metadata": {},
   "outputs": [],
   "source": [
    "duplicates= customer_data.duplicated(\"Customer\")\n",
    "customer_data = customer_data.drop_duplicates(keep=\"first\", subset = \"customer\")\n",
    "pd.DataFrame(duplicates).value_counts()\n",
    "\n",
    "\n",
    "duplicates will be a series\n",
    "\n",
    "we are droping duplicates in our customer data and this is not correct!\n",
    "\n",
    "customer_data = customer_data.drop_duplicates(keep=\"first\",)\n",
    "\n",
    "\n",
    "pd.Datafram(customer_data.duplicate(\"customer\"))\n"
   ]
  },
  {
   "cell_type": "code",
   "execution_count": null,
   "id": "116b733c",
   "metadata": {},
   "outputs": [],
   "source": [
    "very\n",
    "\n",
    "is even one value is duplicate?\n",
    "\n",
    "we can use any()"
   ]
  }
 ],
 "metadata": {
  "kernelspec": {
   "display_name": "Python 3 (ipykernel)",
   "language": "python",
   "name": "python3"
  },
  "language_info": {
   "codemirror_mode": {
    "name": "ipython",
    "version": 3
   },
   "file_extension": ".py",
   "mimetype": "text/x-python",
   "name": "python",
   "nbconvert_exporter": "python",
   "pygments_lexer": "ipython3",
   "version": "3.9.13"
  }
 },
 "nbformat": 4,
 "nbformat_minor": 5
}
