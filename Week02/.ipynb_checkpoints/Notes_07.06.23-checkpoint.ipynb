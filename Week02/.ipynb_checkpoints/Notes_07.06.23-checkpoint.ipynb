{
 "cells": [
  {
   "cell_type": "code",
   "execution_count": 1,
   "id": "75eba4fa",
   "metadata": {},
   "outputs": [],
   "source": [
    "import pandas as pd"
   ]
  },
  {
   "cell_type": "code",
   "execution_count": null,
   "id": "398951a5",
   "metadata": {},
   "outputs": [],
   "source": [
    "customer_data.types"
   ]
  },
  {
   "cell_type": "code",
   "execution_count": null,
   "id": "dde8ff8f",
   "metadata": {},
   "outputs": [],
   "source": [
    "null_count = customer_data"
   ]
  },
  {
   "cell_type": "markdown",
   "id": "5fdf74b9",
   "metadata": {},
   "source": [
    "axes equal 0 iis by default"
   ]
  },
  {
   "cell_type": "markdown",
   "id": "247f8bc8",
   "metadata": {},
   "source": [
    "we need to reset the index!!!!\n",
    "\n",
    "After we delate the values because this will count like"
   ]
  },
  {
   "cell_type": "code",
   "execution_count": null,
   "id": "d0c82002",
   "metadata": {
    "collapsed": true
   },
   "outputs": [],
   "source": []
  }
 ],
 "metadata": {
  "kernelspec": {
   "display_name": "Python 3 (ipykernel)",
   "language": "python",
   "name": "python3"
  },
  "language_info": {
   "codemirror_mode": {
    "name": "ipython",
    "version": 3
   },
   "file_extension": ".py",
   "mimetype": "text/x-python",
   "name": "python",
   "nbconvert_exporter": "python",
   "pygments_lexer": "ipython3",
   "version": "3.9.13"
  }
 },
 "nbformat": 4,
 "nbformat_minor": 5
}
