{
 "cells": [
  {
   "cell_type": "code",
   "execution_count": 2,
   "id": "67b6377c",
   "metadata": {},
   "outputs": [],
   "source": [
    "import pandas as pd\n",
    "import numpy as np"
   ]
  },
  {
   "cell_type": "code",
   "execution_count": 3,
   "id": "2da71e43",
   "metadata": {},
   "outputs": [
    {
     "name": "stdout",
     "output_type": "stream",
     "text": [
      "df = pd.DataFrame(np.random.randn(10, 4))\n",
      "          0         1         2         3\n",
      "0  0.669872  0.434571  1.076213 -0.294885\n",
      "1  0.250560 -1.304167 -1.189545 -0.425154\n",
      "2 -1.479929 -0.191541  1.544864 -0.336096\n",
      "3  0.590517 -0.146324  1.565536  1.257579\n",
      "4 -0.616795  0.183153  0.783949 -0.397318\n",
      "5  0.024415  0.878688  1.403007  1.429199\n",
      "6  0.983243 -1.054199  1.538600  0.348439\n",
      "\n",
      "pieces = [df[:2], df[2:4], df[4:]]\n"
     ]
    },
    {
     "data": {
      "text/plain": [
       "[          0         1         2         3\n",
       " 0  0.669872  0.434571  1.076213 -0.294885\n",
       " 1  0.250560 -1.304167 -1.189545 -0.425154,\n",
       "           0         1         2         3\n",
       " 2 -1.479929 -0.191541  1.544864 -0.336096\n",
       " 3  0.590517 -0.146324  1.565536  1.257579,\n",
       "           0         1         2         3\n",
       " 4 -0.616795  0.183153  0.783949 -0.397318\n",
       " 5  0.024415  0.878688  1.403007  1.429199\n",
       " 6  0.983243 -1.054199  1.538600  0.348439]"
      ]
     },
     "execution_count": 3,
     "metadata": {},
     "output_type": "execute_result"
    }
   ],
   "source": [
    "print('df = pd.DataFrame(np.random.randn(10, 4))')\n",
    "df = pd.DataFrame(np.random.randn(7, 4))\n",
    "print(df)\n",
    "print(\"\\npieces = [df[:2], df[2:4], df[4:]]\")\n",
    "pieces = [df[:2], df[2:4], df[4:]]\n",
    "pieces\n"
   ]
  },
  {
   "cell_type": "code",
   "execution_count": 4,
   "id": "77dcecf9",
   "metadata": {},
   "outputs": [
    {
     "name": "stdout",
     "output_type": "stream",
     "text": [
      "\n",
      "pd.concat(pieces)\n"
     ]
    },
    {
     "data": {
      "text/html": [
       "<div>\n",
       "<style scoped>\n",
       "    .dataframe tbody tr th:only-of-type {\n",
       "        vertical-align: middle;\n",
       "    }\n",
       "\n",
       "    .dataframe tbody tr th {\n",
       "        vertical-align: top;\n",
       "    }\n",
       "\n",
       "    .dataframe thead th {\n",
       "        text-align: right;\n",
       "    }\n",
       "</style>\n",
       "<table border=\"1\" class=\"dataframe\">\n",
       "  <thead>\n",
       "    <tr style=\"text-align: right;\">\n",
       "      <th></th>\n",
       "      <th>0</th>\n",
       "      <th>1</th>\n",
       "      <th>2</th>\n",
       "      <th>3</th>\n",
       "    </tr>\n",
       "  </thead>\n",
       "  <tbody>\n",
       "    <tr>\n",
       "      <th>0</th>\n",
       "      <td>0.669872</td>\n",
       "      <td>0.434571</td>\n",
       "      <td>1.076213</td>\n",
       "      <td>-0.294885</td>\n",
       "    </tr>\n",
       "    <tr>\n",
       "      <th>1</th>\n",
       "      <td>0.250560</td>\n",
       "      <td>-1.304167</td>\n",
       "      <td>-1.189545</td>\n",
       "      <td>-0.425154</td>\n",
       "    </tr>\n",
       "    <tr>\n",
       "      <th>2</th>\n",
       "      <td>-1.479929</td>\n",
       "      <td>-0.191541</td>\n",
       "      <td>1.544864</td>\n",
       "      <td>-0.336096</td>\n",
       "    </tr>\n",
       "    <tr>\n",
       "      <th>3</th>\n",
       "      <td>0.590517</td>\n",
       "      <td>-0.146324</td>\n",
       "      <td>1.565536</td>\n",
       "      <td>1.257579</td>\n",
       "    </tr>\n",
       "    <tr>\n",
       "      <th>4</th>\n",
       "      <td>-0.616795</td>\n",
       "      <td>0.183153</td>\n",
       "      <td>0.783949</td>\n",
       "      <td>-0.397318</td>\n",
       "    </tr>\n",
       "    <tr>\n",
       "      <th>5</th>\n",
       "      <td>0.024415</td>\n",
       "      <td>0.878688</td>\n",
       "      <td>1.403007</td>\n",
       "      <td>1.429199</td>\n",
       "    </tr>\n",
       "    <tr>\n",
       "      <th>6</th>\n",
       "      <td>0.983243</td>\n",
       "      <td>-1.054199</td>\n",
       "      <td>1.538600</td>\n",
       "      <td>0.348439</td>\n",
       "    </tr>\n",
       "  </tbody>\n",
       "</table>\n",
       "</div>"
      ],
      "text/plain": [
       "          0         1         2         3\n",
       "0  0.669872  0.434571  1.076213 -0.294885\n",
       "1  0.250560 -1.304167 -1.189545 -0.425154\n",
       "2 -1.479929 -0.191541  1.544864 -0.336096\n",
       "3  0.590517 -0.146324  1.565536  1.257579\n",
       "4 -0.616795  0.183153  0.783949 -0.397318\n",
       "5  0.024415  0.878688  1.403007  1.429199\n",
       "6  0.983243 -1.054199  1.538600  0.348439"
      ]
     },
     "execution_count": 4,
     "metadata": {},
     "output_type": "execute_result"
    }
   ],
   "source": [
    "print(\"\\npd.concat(pieces)\")\n",
    "pd.concat(pieces)"
   ]
  },
  {
   "cell_type": "code",
   "execution_count": null,
   "id": "d8d11078",
   "metadata": {},
   "outputs": [],
   "source": []
  }
 ],
 "metadata": {
  "kernelspec": {
   "display_name": "Python 3 (ipykernel)",
   "language": "python",
   "name": "python3"
  },
  "language_info": {
   "codemirror_mode": {
    "name": "ipython",
    "version": 3
   },
   "file_extension": ".py",
   "mimetype": "text/x-python",
   "name": "python",
   "nbconvert_exporter": "python",
   "pygments_lexer": "ipython3",
   "version": "3.9.13"
  }
 },
 "nbformat": 4,
 "nbformat_minor": 5
}
