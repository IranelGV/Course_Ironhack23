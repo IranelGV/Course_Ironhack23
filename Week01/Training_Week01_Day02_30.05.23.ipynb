{
 "cells": [
  {
   "cell_type": "code",
   "execution_count": 4,
   "id": "b4471a07",
   "metadata": {},
   "outputs": [
    {
     "data": {
      "text/plain": [
       "['Aleks', 'Sandra']"
      ]
     },
     "execution_count": 4,
     "metadata": {},
     "output_type": "execute_result"
    }
   ],
   "source": [
    "teachers_dict = {\n",
    "    \n",
    "    \"Aleks\":{\n",
    "        \"age\":18,\n",
    "        \"role\":\"LT\",\n",
    "        \"city_residence\":\"Berlin\"\n",
    "    },\n",
    "    \"Sandra\":{\n",
    "        \"age\": 19,\n",
    "        \"role\":\"TA\",\n",
    "        \"city_residence\":\"Mexico City\"\n",
    "    }\n",
    "}\n",
    "\n",
    "list(teachers_dict.keys())\n",
    "\n"
   ]
  },
  {
   "cell_type": "code",
   "execution_count": 5,
   "id": "8b3e58df",
   "metadata": {},
   "outputs": [
    {
     "data": {
      "text/plain": [
       "[{'age': 18, 'role': 'LT', 'city_residence': 'Berlin'},\n",
       " {'age': 19, 'role': 'TA', 'city_residence': 'Mexico City'}]"
      ]
     },
     "execution_count": 5,
     "metadata": {},
     "output_type": "execute_result"
    }
   ],
   "source": [
    "list(teachers_dict.values())"
   ]
  },
  {
   "cell_type": "code",
   "execution_count": 6,
   "id": "973a3859",
   "metadata": {},
   "outputs": [
    {
     "data": {
      "text/plain": [
       "dict_items([('Aleks', {'age': 18, 'role': 'LT', 'city_residence': 'Berlin'}), ('Sandra', {'age': 19, 'role': 'TA', 'city_residence': 'Mexico City'})])"
      ]
     },
     "execution_count": 6,
     "metadata": {},
     "output_type": "execute_result"
    }
   ],
   "source": [
    "teachers_dict.items()"
   ]
  },
  {
   "cell_type": "code",
   "execution_count": 7,
   "id": "8db167e9",
   "metadata": {},
   "outputs": [
    {
     "name": "stdout",
     "output_type": "stream",
     "text": [
      "Sandra is a: {'age': 19, 'role': 'TA', 'city_residence': 'Mexico City'}\n",
      "Sandra is a: {'age': 19, 'role': 'TA', 'city_residence': 'Mexico City'}\n"
     ]
    }
   ],
   "source": [
    "for i,j in teachers_dict.items():\n",
    "    if i== Sandra\n",
    "    print(\"Sandra is a:\", teachers_dict[\"Sandra\"])"
   ]
  },
  {
   "cell_type": "code",
   "execution_count": 11,
   "id": "6d92e4c0",
   "metadata": {},
   "outputs": [
    {
     "name": "stdout",
     "output_type": "stream",
     "text": [
      "Sandra is a: {'age': 19, 'role': 'TA', 'city_residence': 'Mexico City'}\n",
      "dict_keys(['Aleks', 'Sandra'])\n",
      "Sandra is a: {'age': 19, 'role': 'TA', 'city_residence': 'Mexico City'}\n",
      "dict_keys(['Aleks', 'Sandra'])\n"
     ]
    }
   ],
   "source": [
    "for i,j in teachers_dict.items():\n",
    "    print(\"Sandra is a:\", teachers_dict[\"Sandra\"])\n",
    "    print(teachers_dict.keys())"
   ]
  },
  {
   "cell_type": "code",
   "execution_count": 18,
   "id": "2e286fad",
   "metadata": {},
   "outputs": [
    {
     "name": "stdout",
     "output_type": "stream",
     "text": [
      "Aleksis{'age': 18, 'role': 'LT', 'city_residence': 'Berlin'}\n",
      "Sandrais{'age': 19, 'role': 'TA', 'city_residence': 'Mexico City'}\n"
     ]
    }
   ],
   "source": [
    "for i,j in teachers_dict.items():\n",
    "    \n",
    "    print( i + \"is\" + str(j))"
   ]
  },
  {
   "cell_type": "code",
   "execution_count": 19,
   "id": "9b3abb79",
   "metadata": {},
   "outputs": [
    {
     "ename": "TypeError",
     "evalue": "dict.items() takes no arguments (1 given)",
     "output_type": "error",
     "traceback": [
      "\u001b[1;31m---------------------------------------------------------------------------\u001b[0m",
      "\u001b[1;31mTypeError\u001b[0m                                 Traceback (most recent call last)",
      "\u001b[1;32m~\\AppData\\Local\\Temp\\ipykernel_43088\\1912472518.py\u001b[0m in \u001b[0;36m<module>\u001b[1;34m\u001b[0m\n\u001b[1;32m----> 1\u001b[1;33m \u001b[1;32mfor\u001b[0m \u001b[0mi\u001b[0m\u001b[1;33m,\u001b[0m\u001b[0mj\u001b[0m \u001b[1;32min\u001b[0m \u001b[0mteachers_dict\u001b[0m\u001b[1;33m.\u001b[0m\u001b[0mitems\u001b[0m\u001b[1;33m(\u001b[0m\u001b[1;34m\"Sandra\"\u001b[0m\u001b[1;33m)\u001b[0m\u001b[1;33m:\u001b[0m\u001b[1;33m\u001b[0m\u001b[1;33m\u001b[0m\u001b[0m\n\u001b[0m\u001b[0;32m      2\u001b[0m     \u001b[0mteacher_Info\u001b[0m\u001b[1;33m=\u001b[0m\u001b[0mteachers_dict\u001b[0m\u001b[1;33m[\u001b[0m\u001b[0mi\u001b[0m\u001b[1;33m]\u001b[0m\u001b[1;33m\u001b[0m\u001b[1;33m\u001b[0m\u001b[0m\n\u001b[0;32m      3\u001b[0m     \u001b[0mprint\u001b[0m\u001b[1;33m(\u001b[0m \u001b[0mi\u001b[0m \u001b[1;33m+\u001b[0m \u001b[1;34m\"is\"\u001b[0m \u001b[1;33m+\u001b[0m \u001b[0mstr\u001b[0m\u001b[1;33m(\u001b[0m\u001b[0mj\u001b[0m\u001b[1;33m)\u001b[0m\u001b[1;33m)\u001b[0m\u001b[1;33m\u001b[0m\u001b[1;33m\u001b[0m\u001b[0m\n",
      "\u001b[1;31mTypeError\u001b[0m: dict.items() takes no arguments (1 given)"
     ]
    }
   ],
   "source": [
    "for i,j in teachers_dict.items(\"Sandra\"):\n",
    "    teacher_Info=teachers_dict[i]\n",
    "    print( i + \"is\" + str(j))"
   ]
  },
  {
   "cell_type": "code",
   "execution_count": null,
   "id": "b229a7f1",
   "metadata": {},
   "outputs": [],
   "source": [
    "for i in teachers_dict.keys():\n",
    "    teacher_Info=teachers_dict[i]\n",
    "    if teacher_Info[\"role\"] == \"Berlin\":\n",
    "        print(teacher + \" lives in Berlin\")"
   ]
  },
  {
   "cell_type": "code",
   "execution_count": 20,
   "id": "78a79224",
   "metadata": {},
   "outputs": [
    {
     "name": "stdout",
     "output_type": "stream",
     "text": [
      "Sandra is a TA\n"
     ]
    }
   ],
   "source": [
    "teachers_dict = {\n",
    "    \n",
    "    \"Aleks\":{\n",
    "        \"age\":18,\n",
    "        \"role\":\"LT\",\n",
    "        \"city_residence\":\"Berlin\"\n",
    "    },\n",
    "    \"Sandra\":{\n",
    "        \"age\": 19,\n",
    "        \"role\":\"TA\",\n",
    "        \"city_residence\":\"Mexico City\"\n",
    "    }\n",
    "}\n",
    "\n",
    "Sandra = { \"age\": 19,\n",
    "        \"role\":\"TA\",\n",
    "        \"city_residence\":\"Mexico City\"}\n",
    "\n",
    "\n",
    "print(\"Sandra is a\", Sandra[\"role\"])"
   ]
  },
  {
   "cell_type": "code",
   "execution_count": 6,
   "id": "09c1a7ec",
   "metadata": {},
   "outputs": [
    {
     "data": {
      "text/plain": [
       "dict_items([('Aleks', {'age': 18, 'role': 'LT', 'city_residence': 'Berlin'}), ('Sandra', {'age': 19, 'role': 'TA', 'city_residence': 'Mexico City'})])"
      ]
     },
     "execution_count": 6,
     "metadata": {},
     "output_type": "execute_result"
    }
   ],
   "source": [
    "teachers_dict = {\n",
    "    \n",
    "    \"Aleks\":{\n",
    "        \"age\":18,\n",
    "        \"role\":\"LT\",\n",
    "        \"city_residence\":\"Berlin\"\n",
    "    },\n",
    "    \"Sandra\":{\n",
    "        \"age\": 19,\n",
    "        \"role\":\"TA\",\n",
    "        \"city_residence\":\"Mexico City\"\n",
    "    }\n",
    "}\n",
    "\n",
    "#x=list(teachers_dict.keys())\n",
    "#teachers_dict.Keys()\n",
    "#teachers_dict.values()\n",
    "teachers_dict.items()\n",
    "\n",
    "\n",
    "#print (x)\n"
   ]
  },
  {
   "cell_type": "code",
   "execution_count": null,
   "id": "cf55ef56",
   "metadata": {},
   "outputs": [],
   "source": [
    "teachers_dict = {\n",
    "    \n",
    "    \"Aleks\":{\n",
    "        \"age\":18,\n",
    "        \"role\":\"LT\",\n",
    "        \"city_residence\":\"Berlin\"\n",
    "    },\n",
    "    \"Sandra\":{\n",
    "        \"age\": 19,\n",
    "        \"role\":\"TA\",\n",
    "        \"city_residence\":\"Mexico City\"\n",
    "    }\n",
    "}\n"
   ]
  },
  {
   "cell_type": "code",
   "execution_count": 33,
   "id": "6d38ebf5",
   "metadata": {},
   "outputs": [
    {
     "data": {
      "text/plain": [
       "dict"
      ]
     },
     "execution_count": 33,
     "metadata": {},
     "output_type": "execute_result"
    }
   ],
   "source": [
    "type (teachers_dict)"
   ]
  },
  {
   "cell_type": "code",
   "execution_count": 14,
   "id": "28a0b44a",
   "metadata": {},
   "outputs": [
    {
     "name": "stdout",
     "output_type": "stream",
     "text": [
      "['Aleks', 'Sandra']\n"
     ]
    }
   ],
   "source": [
    "list(teachers_dict.keys())\n",
    "teacher=list(teachers_dict.keys())\n",
    "\n",
    "print(teacher)"
   ]
  },
  {
   "cell_type": "code",
   "execution_count": 31,
   "id": "cfb3876a",
   "metadata": {},
   "outputs": [
    {
     "name": "stdout",
     "output_type": "stream",
     "text": [
      "dict_values([{'age': 18, 'role': 'LT', 'city_residence': 'Berlin'}, {'age': 19, 'role': 'TA', 'city_residence': 'Mexico City'}])\n"
     ]
    }
   ],
   "source": [
    "print (teachers_dict.values())"
   ]
  },
  {
   "cell_type": "code",
   "execution_count": 32,
   "id": "49352172",
   "metadata": {},
   "outputs": [
    {
     "ename": "AttributeError",
     "evalue": "'dict_values' object has no attribute 'items'",
     "output_type": "error",
     "traceback": [
      "\u001b[1;31m---------------------------------------------------------------------------\u001b[0m",
      "\u001b[1;31mAttributeError\u001b[0m                            Traceback (most recent call last)",
      "\u001b[1;32m~\\AppData\\Local\\Temp\\ipykernel_25344\\2857122225.py\u001b[0m in \u001b[0;36m<module>\u001b[1;34m\u001b[0m\n\u001b[0;32m      1\u001b[0m \u001b[0mteacher_all_information\u001b[0m \u001b[1;33m=\u001b[0m \u001b[0mteachers_dict\u001b[0m\u001b[1;33m.\u001b[0m\u001b[0mvalues\u001b[0m\u001b[1;33m(\u001b[0m\u001b[1;33m)\u001b[0m\u001b[1;33m\u001b[0m\u001b[1;33m\u001b[0m\u001b[0m\n\u001b[0;32m      2\u001b[0m \u001b[1;33m\u001b[0m\u001b[0m\n\u001b[1;32m----> 3\u001b[1;33m \u001b[0mprint\u001b[0m\u001b[1;33m(\u001b[0m\u001b[0mteacher_all_information\u001b[0m\u001b[1;33m.\u001b[0m\u001b[0mitems\u001b[0m\u001b[1;33m(\u001b[0m\u001b[1;33m)\u001b[0m\u001b[1;33m)\u001b[0m\u001b[1;33m\u001b[0m\u001b[1;33m\u001b[0m\u001b[0m\n\u001b[0m",
      "\u001b[1;31mAttributeError\u001b[0m: 'dict_values' object has no attribute 'items'"
     ]
    }
   ],
   "source": [
    "teacher_all_information = teachers_dict.values()\n",
    "\n",
    "print(teacher_all_information.items())"
   ]
  },
  {
   "cell_type": "code",
   "execution_count": 15,
   "id": "db51e3b2",
   "metadata": {},
   "outputs": [
    {
     "name": "stdout",
     "output_type": "stream",
     "text": [
      "[{'age': 18, 'role': 'LT', 'city_residence': 'Berlin'}, {'age': 19, 'role': 'TA', 'city_residence': 'Mexico City'}]\n"
     ]
    }
   ],
   "source": [
    "list(teachers_dict.values())\n",
    "teacher_information = list(teachers_dict.values())\n",
    "print(teacher_information)"
   ]
  },
  {
   "cell_type": "code",
   "execution_count": 16,
   "id": "d9a91562",
   "metadata": {},
   "outputs": [
    {
     "name": "stdout",
     "output_type": "stream",
     "text": [
      "dict_items([('Aleks', {'age': 18, 'role': 'LT', 'city_residence': 'Berlin'}), ('Sandra', {'age': 19, 'role': 'TA', 'city_residence': 'Mexico City'})])\n"
     ]
    }
   ],
   "source": [
    "teacher_information_inpairs= teachers_dict.items()\n",
    "print(teacher_information_inpairs)"
   ]
  },
  {
   "cell_type": "code",
   "execution_count": 27,
   "id": "9e7a2ddf",
   "metadata": {},
   "outputs": [
    {
     "name": "stdout",
     "output_type": "stream",
     "text": [
      "['role']\n"
     ]
    },
    {
     "ename": "ValueError",
     "evalue": "invalid literal for int() with base 10: 'role'",
     "output_type": "error",
     "traceback": [
      "\u001b[1;31m---------------------------------------------------------------------------\u001b[0m",
      "\u001b[1;31mValueError\u001b[0m                                Traceback (most recent call last)",
      "\u001b[1;32m~\\AppData\\Local\\Temp\\ipykernel_25344\\1915820023.py\u001b[0m in \u001b[0;36m<module>\u001b[1;34m\u001b[0m\n\u001b[0;32m      1\u001b[0m \u001b[1;32mfor\u001b[0m \u001b[0mi\u001b[0m\u001b[1;33m,\u001b[0m \u001b[0mj\u001b[0m \u001b[1;32min\u001b[0m \u001b[0mteacher_information_inpairs\u001b[0m\u001b[1;33m:\u001b[0m\u001b[1;33m\u001b[0m\u001b[1;33m\u001b[0m\u001b[0m\n\u001b[0;32m      2\u001b[0m      \u001b[1;32mif\u001b[0m \u001b[0mi\u001b[0m \u001b[1;33m==\u001b[0m \u001b[1;34m'Sandra'\u001b[0m\u001b[1;33m:\u001b[0m\u001b[1;33m\u001b[0m\u001b[1;33m\u001b[0m\u001b[0m\n\u001b[1;32m----> 3\u001b[1;33m         \u001b[0mteacher_information\u001b[0m \u001b[1;33m[\u001b[0m\u001b[0mint\u001b[0m\u001b[1;33m(\u001b[0m\u001b[1;34m'role'\u001b[0m\u001b[1;33m)\u001b[0m\u001b[1;33m]\u001b[0m\u001b[1;33m\u001b[0m\u001b[1;33m\u001b[0m\u001b[0m\n\u001b[0m\u001b[0;32m      4\u001b[0m \u001b[1;33m\u001b[0m\u001b[0m\n\u001b[0;32m      5\u001b[0m      \u001b[0mprint\u001b[0m\u001b[1;33m(\u001b[0m\u001b[0mteacher_information\u001b[0m\u001b[1;33m)\u001b[0m\u001b[1;33m\u001b[0m\u001b[1;33m\u001b[0m\u001b[0m\n",
      "\u001b[1;31mValueError\u001b[0m: invalid literal for int() with base 10: 'role'"
     ]
    }
   ],
   "source": [
    "for i, j in teacher_information_inpairs:\n",
    "     if i == 'Sandra':\n",
    "        teacher_information [\"role\"]\n",
    "    \n",
    "     print(teacher_information)"
   ]
  },
  {
   "cell_type": "code",
   "execution_count": 30,
   "id": "127a6ed0",
   "metadata": {},
   "outputs": [
    {
     "name": "stdout",
     "output_type": "stream",
     "text": [
      "{'age': 18, 'role': 'LT', 'city_residence': 'Berlin'}\n",
      "{'age': 19, 'role': 'TA', 'city_residence': 'Mexico City'}\n"
     ]
    }
   ],
   "source": [
    "for i, j in teacher_information_inpairs:\n",
    "     \n",
    "         print(j)\n",
    "         "
   ]
  },
  {
   "cell_type": "code",
   "execution_count": null,
   "id": "5b13965e",
   "metadata": {},
   "outputs": [],
   "source": []
  }
 ],
 "metadata": {
  "kernelspec": {
   "display_name": "Python 3 (ipykernel)",
   "language": "python",
   "name": "python3"
  },
  "language_info": {
   "codemirror_mode": {
    "name": "ipython",
    "version": 3
   },
   "file_extension": ".py",
   "mimetype": "text/x-python",
   "name": "python",
   "nbconvert_exporter": "python",
   "pygments_lexer": "ipython3",
   "version": "3.9.13"
  }
 },
 "nbformat": 4,
 "nbformat_minor": 5
}
