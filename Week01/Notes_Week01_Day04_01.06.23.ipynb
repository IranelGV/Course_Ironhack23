{
 "cells": [
  {
   "cell_type": "markdown",
   "id": "1fcecdcc",
   "metadata": {},
   "source": [
    "👉**Day 4**"
   ]
  },
  {
   "cell_type": "code",
   "execution_count": null,
   "id": "412304d3",
   "metadata": {},
   "outputs": [],
   "source": [
    "a= np.random.random((5,3))\n",
    "result = np.zeros(shape)\n",
    "for x in range(0, shape[0]):\n",
    "    for y in range(0, shape[1]):\n",
    "        if arr[x, y] >= T:\n",
    "            result[x, y] = 255"
   ]
  }
 ],
 "metadata": {
  "kernelspec": {
   "display_name": "Python 3 (ipykernel)",
   "language": "python",
   "name": "python3"
  },
  "language_info": {
   "codemirror_mode": {
    "name": "ipython",
    "version": 3
   },
   "file_extension": ".py",
   "mimetype": "text/x-python",
   "name": "python",
   "nbconvert_exporter": "python",
   "pygments_lexer": "ipython3",
   "version": "3.9.13"
  }
 },
 "nbformat": 4,
 "nbformat_minor": 5
}
