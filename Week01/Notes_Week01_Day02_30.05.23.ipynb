{
 "cells": [
  {
   "cell_type": "markdown",
   "id": "ccfd3278",
   "metadata": {},
   "source": [
    "👉**Data Structures**"
   ]
  },
  {
   "cell_type": "code",
   "execution_count": 1,
   "id": "2fbf5226",
   "metadata": {
    "scrolled": true
   },
   "outputs": [
    {
     "name": "stdout",
     "output_type": "stream",
     "text": [
      "My name is Iranel\n"
     ]
    },
    {
     "data": {
      "text/plain": [
       "str"
      ]
     },
     "execution_count": 1,
     "metadata": {},
     "output_type": "execute_result"
    }
   ],
   "source": [
    "name = \"Iranel\"\n",
    "print(\"My name is\", name)\n",
    "\n",
    "type(name)"
   ]
  },
  {
   "cell_type": "code",
   "execution_count": 2,
   "id": "3b035873",
   "metadata": {},
   "outputs": [
    {
     "data": {
      "text/plain": [
       "True"
      ]
     },
     "execution_count": 2,
     "metadata": {},
     "output_type": "execute_result"
    }
   ],
   "source": [
    "type(name) == str"
   ]
  },
  {
   "cell_type": "code",
   "execution_count": null,
   "id": "9be61183",
   "metadata": {},
   "outputs": [],
   "source": [
    "#family of objects\n",
    "\n",
    "class Students():\n",
    "    \n",
    "    # we can have a functions we will apply inside of the class\n",
    "    \n",
    "    def give_bonus_point():\n",
    "        \n",
    "        #here i will defined a funtion"
   ]
  },
  {
   "cell_type": "code",
   "execution_count": 5,
   "id": "b3d523e2",
   "metadata": {},
   "outputs": [
    {
     "data": {
      "text/plain": [
       "16"
      ]
     },
     "execution_count": 5,
     "metadata": {},
     "output_type": "execute_result"
    }
   ],
   "source": [
    "def number_squarer(x):\n",
    "    number = x**2\n",
    "    return number\n",
    "\n",
    "number_squarer(4)\n",
    "\n"
   ]
  },
  {
   "cell_type": "code",
   "execution_count": 14,
   "id": "971e3d99",
   "metadata": {},
   "outputs": [],
   "source": [
    "class Employee:\n",
    "    def _init_(self,name,course, salary):\n",
    "    \n",
    "    #inside of parents we defined the attributes\n",
    "    \n",
    "          self.name = name\n",
    "          self.course = course\n",
    "          self.gender = gender\n",
    "          self.age = age\n",
    "            \n",
    "    def give_a_raise(self,bonus)\n",
    "        selfsalary = salary + x\n",
    "        \n",
    "        return self.salary\n",
    "    "
   ]
  },
  {
   "cell_type": "code",
   "execution_count": 20,
   "id": "03266598",
   "metadata": {},
   "outputs": [
    {
     "ename": "TypeError",
     "evalue": "Student() takes no arguments",
     "output_type": "error",
     "traceback": [
      "\u001b[1;31m---------------------------------------------------------------------------\u001b[0m",
      "\u001b[1;31mTypeError\u001b[0m                                 Traceback (most recent call last)",
      "\u001b[1;32m~\\AppData\\Local\\Temp\\ipykernel_27512\\1389578128.py\u001b[0m in \u001b[0;36m<module>\u001b[1;34m\u001b[0m\n\u001b[1;32m----> 1\u001b[1;33m \u001b[0mAleks\u001b[0m \u001b[1;33m=\u001b[0m \u001b[0mStudent\u001b[0m\u001b[1;33m(\u001b[0m\u001b[1;34m\"Aleks\"\u001b[0m\u001b[1;33m,\u001b[0m \u001b[1;34m\"web dev\"\u001b[0m\u001b[1;33m,\u001b[0m \u001b[1;34m\"male\"\u001b[0m\u001b[1;33m,\u001b[0m \u001b[1;36m28\u001b[0m\u001b[1;33m)\u001b[0m\u001b[1;33m\u001b[0m\u001b[1;33m\u001b[0m\u001b[0m\n\u001b[0m\u001b[0;32m      2\u001b[0m \u001b[1;33m\u001b[0m\u001b[0m\n\u001b[0;32m      3\u001b[0m \u001b[1;31m#I defined a new variable\u001b[0m\u001b[1;33m\u001b[0m\u001b[1;33m\u001b[0m\u001b[0m\n",
      "\u001b[1;31mTypeError\u001b[0m: Student() takes no arguments"
     ]
    }
   ],
   "source": [
    "Aleks = Student(\"Aleks\", \"web dev\", \"male\", 28)\n",
    "\n",
    "#I defined a new variable"
   ]
  },
  {
   "cell_type": "code",
   "execution_count": 21,
   "id": "94f37f00",
   "metadata": {},
   "outputs": [
    {
     "ename": "NameError",
     "evalue": "name 'Aleks' is not defined",
     "output_type": "error",
     "traceback": [
      "\u001b[1;31m---------------------------------------------------------------------------\u001b[0m",
      "\u001b[1;31mNameError\u001b[0m                                 Traceback (most recent call last)",
      "\u001b[1;32m~\\AppData\\Local\\Temp\\ipykernel_27512\\3059838384.py\u001b[0m in \u001b[0;36m<module>\u001b[1;34m\u001b[0m\n\u001b[1;32m----> 1\u001b[1;33m \u001b[0mAleks\u001b[0m\u001b[1;33m.\u001b[0m\u001b[0mage\u001b[0m\u001b[1;33m\u001b[0m\u001b[1;33m\u001b[0m\u001b[0m\n\u001b[0m",
      "\u001b[1;31mNameError\u001b[0m: name 'Aleks' is not defined"
     ]
    }
   ],
   "source": [
    "Aleks.age"
   ]
  },
  {
   "cell_type": "code",
   "execution_count": 25,
   "id": "2e171e44",
   "metadata": {},
   "outputs": [
    {
     "data": {
      "text/plain": [
       "'ira'"
      ]
     },
     "execution_count": 25,
     "metadata": {},
     "output_type": "execute_result"
    }
   ],
   "source": [
    "# in the list the order always will be respected!\n",
    "# They are mutable\n",
    "# the slot can be accessed by INDEX!!!\n",
    "# [0] \n",
    "\n",
    "\n",
    "students=[\"ira\",\"Tahora\", \"Yen\", \"Kaar\"]\n",
    "\n",
    "students[0] "
   ]
  },
  {
   "cell_type": "code",
   "execution_count": 26,
   "id": "23e1a5a9",
   "metadata": {},
   "outputs": [
    {
     "name": "stdout",
     "output_type": "stream",
     "text": [
      "{'ira': 'turtle', 'Kaan': 'dog'}\n"
     ]
    }
   ],
   "source": [
    "# puedo tornar un valor de un diccionario en una lista\n",
    "\n",
    "pets = { \"ira\": \"turtle\", \"Kaan\": \"dog\" }\n",
    "\n",
    "print(pets)\n",
    "\n"
   ]
  },
  {
   "cell_type": "code",
   "execution_count": 27,
   "id": "5d53cd1c",
   "metadata": {},
   "outputs": [
    {
     "data": {
      "text/plain": [
       "dict"
      ]
     },
     "execution_count": 27,
     "metadata": {},
     "output_type": "execute_result"
    }
   ],
   "source": [
    "type(pets)\n"
   ]
  },
  {
   "cell_type": "code",
   "execution_count": 30,
   "id": "14761293",
   "metadata": {},
   "outputs": [
    {
     "ename": "NameError",
     "evalue": "name 'insinstance' is not defined",
     "output_type": "error",
     "traceback": [
      "\u001b[1;31m---------------------------------------------------------------------------\u001b[0m",
      "\u001b[1;31mNameError\u001b[0m                                 Traceback (most recent call last)",
      "\u001b[1;32m~\\AppData\\Local\\Temp\\ipykernel_27512\\1624856170.py\u001b[0m in \u001b[0;36m<module>\u001b[1;34m\u001b[0m\n\u001b[1;32m----> 1\u001b[1;33m \u001b[0minsinstance\u001b[0m\u001b[1;33m(\u001b[0m\u001b[0mpets\u001b[0m\u001b[1;33m,\u001b[0m\u001b[0mdict\u001b[0m\u001b[1;33m)\u001b[0m\u001b[1;33m\u001b[0m\u001b[1;33m\u001b[0m\u001b[0m\n\u001b[0m",
      "\u001b[1;31mNameError\u001b[0m: name 'insinstance' is not defined"
     ]
    }
   ],
   "source": [
    "insinstance (pets,dict)"
   ]
  },
  {
   "cell_type": "code",
   "execution_count": null,
   "id": "1d8a487f",
   "metadata": {},
   "outputs": [],
   "source": [
    "#we can assign and change the list\n",
    "#the list is mutable\n",
    "#i can change the elements\n",
    "\n",
    "list_of_pets[0] = \"dog\"\n",
    "\n",
    "#acabo de re asignar el primer valor de mi lista \n",
    "\n"
   ]
  },
  {
   "cell_type": "code",
   "execution_count": null,
   "id": "042ea2b4",
   "metadata": {},
   "outputs": [],
   "source": [
    "# if we work using tuple we can change the list we can get access using index\n",
    "\n",
    "mytuple = (\"apple\", \"banana\", \"cherry\")\n",
    "\n",
    "# a Tuple uses ()\n",
    "# a list used []\n",
    "# Dictionary {}"
   ]
  },
  {
   "cell_type": "code",
   "execution_count": null,
   "id": "3350d2fa",
   "metadata": {},
   "outputs": [],
   "source": []
  }
 ],
 "metadata": {
  "kernelspec": {
   "display_name": "Python 3 (ipykernel)",
   "language": "python",
   "name": "python3"
  },
  "language_info": {
   "codemirror_mode": {
    "name": "ipython",
    "version": 3
   },
   "file_extension": ".py",
   "mimetype": "text/x-python",
   "name": "python",
   "nbconvert_exporter": "python",
   "pygments_lexer": "ipython3",
   "version": "3.9.13"
  }
 },
 "nbformat": 4,
 "nbformat_minor": 5
}
