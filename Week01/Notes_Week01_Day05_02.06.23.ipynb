{
 "cells": [
  {
   "cell_type": "markdown",
   "id": "217926d1",
   "metadata": {},
   "source": [
    "👉**Day 5**\n",
    "\n",
    "Map Function"
   ]
  },
  {
   "cell_type": "code",
   "execution_count": null,
   "id": "968f2f34",
   "metadata": {},
   "outputs": [],
   "source": [
    "import np as np"
   ]
  },
  {
   "cell_type": "code",
   "execution_count": 3,
   "id": "b1454565",
   "metadata": {},
   "outputs": [],
   "source": [
    "def fun(x):\n",
    "    \n",
    "    return x**2"
   ]
  },
  {
   "cell_type": "code",
   "execution_count": 4,
   "id": "3d593317",
   "metadata": {},
   "outputs": [
    {
     "data": {
      "text/plain": [
       "[1, 4, 9]"
      ]
     },
     "execution_count": 4,
     "metadata": {},
     "output_type": "execute_result"
    }
   ],
   "source": [
    "small_list = [1,2,3]\n",
    "\n",
    "list(map(fun, small_list))\n",
    "     "
   ]
  },
  {
   "cell_type": "code",
   "execution_count": 5,
   "id": "0808f852",
   "metadata": {},
   "outputs": [
    {
     "data": {
      "text/plain": [
       "[('hi', 1), ('hello', 2), ('hallo', 3)]"
      ]
     },
     "execution_count": 5,
     "metadata": {},
     "output_type": "execute_result"
    }
   ],
   "source": [
    "second_list =[\"hi\",\"hello\",\"hallo\"]\n",
    "\n",
    "list(zip(second_list, small_list))"
   ]
  },
  {
   "cell_type": "code",
   "execution_count": null,
   "id": "9d84e2ae",
   "metadata": {},
   "outputs": [],
   "source": []
  }
 ],
 "metadata": {
  "kernelspec": {
   "display_name": "Python 3 (ipykernel)",
   "language": "python",
   "name": "python3"
  },
  "language_info": {
   "codemirror_mode": {
    "name": "ipython",
    "version": 3
   },
   "file_extension": ".py",
   "mimetype": "text/x-python",
   "name": "python",
   "nbconvert_exporter": "python",
   "pygments_lexer": "ipython3",
   "version": "3.9.13"
  }
 },
 "nbformat": 4,
 "nbformat_minor": 5
}
