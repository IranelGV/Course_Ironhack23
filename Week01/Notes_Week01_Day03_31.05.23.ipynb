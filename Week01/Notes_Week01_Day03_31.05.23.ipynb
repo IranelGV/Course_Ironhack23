{
 "cells": [
  {
   "cell_type": "markdown",
   "id": "e6fc8241",
   "metadata": {},
   "source": [
    "👉**List Methods**\n",
    "\n",
    "**List Comprehensions lasted**"
   ]
  },
  {
   "cell_type": "code",
   "execution_count": null,
   "id": "3f8fa5b2",
   "metadata": {},
   "outputs": [],
   "source": [
    "#Traditional way"
   ]
  },
  {
   "cell_type": "markdown",
   "id": "ddcbf4b5",
   "metadata": {},
   "source": [
    "if zou want to star for another position in the range you can do specify it\n",
    "range(1,11)\n",
    "\n",
    "my_list [i for i in range(1,11)]"
   ]
  },
  {
   "cell_type": "code",
   "execution_count": 2,
   "id": "860f3463",
   "metadata": {},
   "outputs": [
    {
     "data": {
      "text/plain": [
       "[1, 2, 3, 4, 5]"
      ]
     },
     "execution_count": 2,
     "metadata": {},
     "output_type": "execute_result"
    }
   ],
   "source": [
    "my_list= [1,2,3,4,5]\n",
    "\n",
    "my_list\n"
   ]
  },
  {
   "cell_type": "code",
   "execution_count": 3,
   "id": "59f0d986",
   "metadata": {},
   "outputs": [
    {
     "data": {
      "text/plain": [
       "5"
      ]
     },
     "execution_count": 3,
     "metadata": {},
     "output_type": "execute_result"
    }
   ],
   "source": [
    "my_list.pop()"
   ]
  },
  {
   "cell_type": "code",
   "execution_count": 4,
   "id": "33bc65ac",
   "metadata": {},
   "outputs": [
    {
     "data": {
      "text/plain": [
       "[1, 2, 3, 4]"
      ]
     },
     "execution_count": 4,
     "metadata": {},
     "output_type": "execute_result"
    }
   ],
   "source": [
    "my_list"
   ]
  },
  {
   "cell_type": "code",
   "execution_count": 5,
   "id": "9299feb3",
   "metadata": {},
   "outputs": [],
   "source": [
    "small_list = list(range(11))\n"
   ]
  },
  {
   "cell_type": "code",
   "execution_count": 6,
   "id": "87cae121",
   "metadata": {},
   "outputs": [
    {
     "data": {
      "text/plain": [
       "[0, 1, 2, 3, 4, 5, 6, 7, 8, 9, 10]"
      ]
     },
     "execution_count": 6,
     "metadata": {},
     "output_type": "execute_result"
    }
   ],
   "source": [
    "small_list"
   ]
  },
  {
   "cell_type": "code",
   "execution_count": 11,
   "id": "5eb516b1",
   "metadata": {},
   "outputs": [],
   "source": [
    "squared_list = []\n",
    "\n",
    "for i in small_list:\n",
    "      squared_list.append(i**2)"
   ]
  },
  {
   "cell_type": "code",
   "execution_count": 12,
   "id": "b69d097e",
   "metadata": {},
   "outputs": [
    {
     "data": {
      "text/plain": [
       "[0, 1, 4, 9, 16, 25, 36, 49, 64, 81, 100]"
      ]
     },
     "execution_count": 12,
     "metadata": {},
     "output_type": "execute_result"
    }
   ],
   "source": [
    "squared_list"
   ]
  },
  {
   "cell_type": "code",
   "execution_count": 19,
   "id": "6e21301b",
   "metadata": {},
   "outputs": [],
   "source": [
    "\n",
    "students = ['Anaswara Vijayan',\n",
    " 'Bruna Santos',\n",
    " 'Bryan Dunleavy',\n",
    " 'Feras Rafeh',\n",
    " 'Geneva Uy',\n",
    " 'Iranel González',\n",
    " 'Ivanna Pivtorak',\n",
    " 'Jan Hildebrand',\n",
    " 'Kaan Dural',\n",
    "  'Raghda',\n",
    " 'Tahora Husaini',\n",
    " 'Tomas Renaudo',\n",
    " 'Valentina Delgado']"
   ]
  },
  {
   "cell_type": "code",
   "execution_count": 20,
   "id": "bd08b9ec",
   "metadata": {},
   "outputs": [
    {
     "data": {
      "text/plain": [
       "['Anaswara',\n",
       " 'Bruna',\n",
       " 'Bryan',\n",
       " 'Feras',\n",
       " 'Geneva',\n",
       " 'Iranel',\n",
       " 'Ivanna',\n",
       " 'Jan',\n",
       " 'Kaan',\n",
       " 'Raghda',\n",
       " 'Tahora',\n",
       " 'Tomas',\n",
       " 'Valentina']"
      ]
     },
     "execution_count": 20,
     "metadata": {},
     "output_type": "execute_result"
    }
   ],
   "source": [
    "first_name = []\n",
    "\n",
    "for student in students:\n",
    "    first_name.append(student.split()[0])\n",
    "\n",
    "first_name"
   ]
  },
  {
   "cell_type": "code",
   "execution_count": 21,
   "id": "274949a4",
   "metadata": {},
   "outputs": [
    {
     "ename": "AttributeError",
     "evalue": "'str' object has no attribute 'append'",
     "output_type": "error",
     "traceback": [
      "\u001b[1;31m---------------------------------------------------------------------------\u001b[0m",
      "\u001b[1;31mAttributeError\u001b[0m                            Traceback (most recent call last)",
      "\u001b[1;32m~\\AppData\\Local\\Temp\\ipykernel_21840\\4173816887.py\u001b[0m in \u001b[0;36m<module>\u001b[1;34m\u001b[0m\n\u001b[0;32m      1\u001b[0m \u001b[1;31m#surnames_list = [i for i in  students ]\u001b[0m\u001b[1;33m\u001b[0m\u001b[1;33m\u001b[0m\u001b[0m\n\u001b[1;32m----> 2\u001b[1;33m \u001b[0msurnames_list\u001b[0m \u001b[1;33m=\u001b[0m \u001b[1;33m[\u001b[0m \u001b[0mstudent\u001b[0m\u001b[1;33m.\u001b[0m\u001b[0mappend\u001b[0m\u001b[1;33m(\u001b[0m\u001b[1;33m[\u001b[0m\u001b[1;33m-\u001b[0m\u001b[1;36m1\u001b[0m\u001b[1;33m]\u001b[0m\u001b[1;33m)\u001b[0m \u001b[1;32mfor\u001b[0m \u001b[0mstudent\u001b[0m \u001b[1;32min\u001b[0m  \u001b[0mstudents\u001b[0m \u001b[1;33m]\u001b[0m\u001b[1;33m\u001b[0m\u001b[1;33m\u001b[0m\u001b[0m\n\u001b[0m",
      "\u001b[1;32m~\\AppData\\Local\\Temp\\ipykernel_21840\\4173816887.py\u001b[0m in \u001b[0;36m<listcomp>\u001b[1;34m(.0)\u001b[0m\n\u001b[0;32m      1\u001b[0m \u001b[1;31m#surnames_list = [i for i in  students ]\u001b[0m\u001b[1;33m\u001b[0m\u001b[1;33m\u001b[0m\u001b[0m\n\u001b[1;32m----> 2\u001b[1;33m \u001b[0msurnames_list\u001b[0m \u001b[1;33m=\u001b[0m \u001b[1;33m[\u001b[0m \u001b[0mstudent\u001b[0m\u001b[1;33m.\u001b[0m\u001b[0mappend\u001b[0m\u001b[1;33m(\u001b[0m\u001b[1;33m[\u001b[0m\u001b[1;33m-\u001b[0m\u001b[1;36m1\u001b[0m\u001b[1;33m]\u001b[0m\u001b[1;33m)\u001b[0m \u001b[1;32mfor\u001b[0m \u001b[0mstudent\u001b[0m \u001b[1;32min\u001b[0m  \u001b[0mstudents\u001b[0m \u001b[1;33m]\u001b[0m\u001b[1;33m\u001b[0m\u001b[1;33m\u001b[0m\u001b[0m\n\u001b[0m",
      "\u001b[1;31mAttributeError\u001b[0m: 'str' object has no attribute 'append'"
     ]
    }
   ],
   "source": [
    "#surnames_list = [i for i in  students ]\n",
    "surnames_list = [ student.append([-1]) for student in  students ]"
   ]
  },
  {
   "cell_type": "code",
   "execution_count": 28,
   "id": "302efbd7",
   "metadata": {},
   "outputs": [],
   "source": [
    "#Nested for loop\n",
    "my_list= [[1,2,3,4,5],[1,2,3,4,5]]\n",
    "flat_list=[]\n",
    "\n",
    "for sublist in my_list:\n",
    "    for item in sublist:\n",
    "        \n",
    "        flat_list.append(item)"
   ]
  },
  {
   "cell_type": "code",
   "execution_count": 29,
   "id": "dafcb752",
   "metadata": {},
   "outputs": [
    {
     "data": {
      "text/plain": [
       "[1, 2, 3, 4, 5, 1, 2, 3, 4, 5]"
      ]
     },
     "execution_count": 29,
     "metadata": {},
     "output_type": "execute_result"
    }
   ],
   "source": [
    "flat_list"
   ]
  },
  {
   "cell_type": "code",
   "execution_count": 30,
   "id": "0e5ff867",
   "metadata": {},
   "outputs": [],
   "source": [
    "#fashion way\n",
    "flat_list = [item for sublist in my_list for item in sublist]"
   ]
  },
  {
   "cell_type": "code",
   "execution_count": 31,
   "id": "21d3ae61",
   "metadata": {},
   "outputs": [
    {
     "data": {
      "text/plain": [
       "[1, 2, 3, 4, 5, 1, 2, 3, 4, 5]"
      ]
     },
     "execution_count": 31,
     "metadata": {},
     "output_type": "execute_result"
    }
   ],
   "source": [
    "flat_list"
   ]
  },
  {
   "cell_type": "code",
   "execution_count": 22,
   "id": "dda7208c",
   "metadata": {},
   "outputs": [
    {
     "name": "stdout",
     "output_type": "stream",
     "text": [
      "The Zen of Python, by Tim Peters\n",
      "\n",
      "Beautiful is better than ugly.\n",
      "Explicit is better than implicit.\n",
      "Simple is better than complex.\n",
      "Complex is better than complicated.\n",
      "Flat is better than nested.\n",
      "Sparse is better than dense.\n",
      "Readability counts.\n",
      "Special cases aren't special enough to break the rules.\n",
      "Although practicality beats purity.\n",
      "Errors should never pass silently.\n",
      "Unless explicitly silenced.\n",
      "In the face of ambiguity, refuse the temptation to guess.\n",
      "There should be one-- and preferably only one --obvious way to do it.\n",
      "Although that way may not be obvious at first unless you're Dutch.\n",
      "Now is better than never.\n",
      "Although never is often better than *right* now.\n",
      "If the implementation is hard to explain, it's a bad idea.\n",
      "If the implementation is easy to explain, it may be a good idea.\n",
      "Namespaces are one honking great idea -- let's do more of those!\n"
     ]
    }
   ],
   "source": [
    "import this"
   ]
  },
  {
   "cell_type": "code",
   "execution_count": 24,
   "id": "b88efb2f",
   "metadata": {},
   "outputs": [],
   "source": [
    "import antigravity"
   ]
  },
  {
   "cell_type": "code",
   "execution_count": 32,
   "id": "d96393b1",
   "metadata": {},
   "outputs": [
    {
     "data": {
      "text/plain": [
       "['Kaan',\n",
       " 'Feras',\n",
       " 'Tomas',\n",
       " 'Bruna',\n",
       " 'Ira',\n",
       " 'Valentina',\n",
       " 'Jan',\n",
       " 'Anaswara',\n",
       " 'Ivanna']"
      ]
     },
     "execution_count": 32,
     "metadata": {},
     "output_type": "execute_result"
    }
   ],
   "source": [
    "big_list = [[[\"Kaan\", \"Feras\", \"Tomas\"],[\"Bruna\", \"Ira\", \"Valentina\"]],\\\n",
    "            [[\"Jan\", \"Anaswara\", \"Ivanna\"]]]\n",
    "\n",
    "flat_list = [item for sublist in big_list for subsublist in sublist for item in subsublist]\n",
    "\n",
    "flat_list"
   ]
  },
  {
   "cell_type": "markdown",
   "id": "9514b13c",
   "metadata": {},
   "source": [
    "👉**Functions**"
   ]
  },
  {
   "cell_type": "code",
   "execution_count": null,
   "id": "0b924643",
   "metadata": {},
   "outputs": [],
   "source": []
  }
 ],
 "metadata": {
  "kernelspec": {
   "display_name": "Python 3 (ipykernel)",
   "language": "python",
   "name": "python3"
  },
  "language_info": {
   "codemirror_mode": {
    "name": "ipython",
    "version": 3
   },
   "file_extension": ".py",
   "mimetype": "text/x-python",
   "name": "python",
   "nbconvert_exporter": "python",
   "pygments_lexer": "ipython3",
   "version": "3.9.13"
  }
 },
 "nbformat": 4,
 "nbformat_minor": 5
}
