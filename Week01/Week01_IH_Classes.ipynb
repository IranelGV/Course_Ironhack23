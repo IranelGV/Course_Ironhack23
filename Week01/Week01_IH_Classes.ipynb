{
 "cells": [
  {
   "cell_type": "code",
   "execution_count": 4,
   "id": "d941abf0",
   "metadata": {},
   "outputs": [
    {
     "data": {
      "text/plain": [
       "['Aleks', 'Sandra']"
      ]
     },
     "execution_count": 4,
     "metadata": {},
     "output_type": "execute_result"
    }
   ],
   "source": [
    "teachers_dict = {\n",
    "    \n",
    "    \"Aleks\":{\n",
    "        \"age\":18,\n",
    "        \"role\":\"LT\",\n",
    "        \"city_residence\":\"Berlin\"\n",
    "    },\n",
    "    \"Sandra\":{\n",
    "        \"age\": 19,\n",
    "        \"role\":\"TA\",\n",
    "        \"city_residence\":\"Mexico City\"\n",
    "    }\n",
    "}\n",
    "\n",
    "list(teachers_dict.keys())\n",
    "\n"
   ]
  },
  {
   "cell_type": "code",
   "execution_count": 5,
   "id": "2f390e91",
   "metadata": {},
   "outputs": [
    {
     "data": {
      "text/plain": [
       "[{'age': 18, 'role': 'LT', 'city_residence': 'Berlin'},\n",
       " {'age': 19, 'role': 'TA', 'city_residence': 'Mexico City'}]"
      ]
     },
     "execution_count": 5,
     "metadata": {},
     "output_type": "execute_result"
    }
   ],
   "source": [
    "list(teachers_dict.values())"
   ]
  },
  {
   "cell_type": "code",
   "execution_count": 6,
   "id": "8e9f30d7",
   "metadata": {},
   "outputs": [
    {
     "data": {
      "text/plain": [
       "dict_items([('Aleks', {'age': 18, 'role': 'LT', 'city_residence': 'Berlin'}), ('Sandra', {'age': 19, 'role': 'TA', 'city_residence': 'Mexico City'})])"
      ]
     },
     "execution_count": 6,
     "metadata": {},
     "output_type": "execute_result"
    }
   ],
   "source": [
    "teachers_dict.items()"
   ]
  },
  {
   "cell_type": "code",
   "execution_count": 7,
   "id": "44f1ace5",
   "metadata": {},
   "outputs": [
    {
     "name": "stdout",
     "output_type": "stream",
     "text": [
      "Sandra is a: {'age': 19, 'role': 'TA', 'city_residence': 'Mexico City'}\n",
      "Sandra is a: {'age': 19, 'role': 'TA', 'city_residence': 'Mexico City'}\n"
     ]
    }
   ],
   "source": [
    "for i,j in teachers_dict.items():\n",
    "    print(\"Sandra is a:\", teachers_dict[\"Sandra\"])"
   ]
  },
  {
   "cell_type": "code",
   "execution_count": 11,
   "id": "67d57137",
   "metadata": {},
   "outputs": [
    {
     "name": "stdout",
     "output_type": "stream",
     "text": [
      "Sandra is a: {'age': 19, 'role': 'TA', 'city_residence': 'Mexico City'}\n",
      "dict_keys(['Aleks', 'Sandra'])\n",
      "Sandra is a: {'age': 19, 'role': 'TA', 'city_residence': 'Mexico City'}\n",
      "dict_keys(['Aleks', 'Sandra'])\n"
     ]
    }
   ],
   "source": [
    "for i,j in teachers_dict.items():\n",
    "    print(\"Sandra is a:\", teachers_dict[\"Sandra\"])\n",
    "    print(teachers_dict.keys())"
   ]
  },
  {
   "cell_type": "code",
   "execution_count": 18,
   "id": "aa291e75",
   "metadata": {},
   "outputs": [
    {
     "name": "stdout",
     "output_type": "stream",
     "text": [
      "Aleksis{'age': 18, 'role': 'LT', 'city_residence': 'Berlin'}\n",
      "Sandrais{'age': 19, 'role': 'TA', 'city_residence': 'Mexico City'}\n"
     ]
    }
   ],
   "source": [
    "for i,j in teachers_dict.items():\n",
    "    \n",
    "    print( i + \"is\" + str(j))"
   ]
  },
  {
   "cell_type": "code",
   "execution_count": 19,
   "id": "f63292ad",
   "metadata": {},
   "outputs": [
    {
     "ename": "TypeError",
     "evalue": "dict.items() takes no arguments (1 given)",
     "output_type": "error",
     "traceback": [
      "\u001b[1;31m---------------------------------------------------------------------------\u001b[0m",
      "\u001b[1;31mTypeError\u001b[0m                                 Traceback (most recent call last)",
      "\u001b[1;32m~\\AppData\\Local\\Temp\\ipykernel_43088\\1912472518.py\u001b[0m in \u001b[0;36m<module>\u001b[1;34m\u001b[0m\n\u001b[1;32m----> 1\u001b[1;33m \u001b[1;32mfor\u001b[0m \u001b[0mi\u001b[0m\u001b[1;33m,\u001b[0m\u001b[0mj\u001b[0m \u001b[1;32min\u001b[0m \u001b[0mteachers_dict\u001b[0m\u001b[1;33m.\u001b[0m\u001b[0mitems\u001b[0m\u001b[1;33m(\u001b[0m\u001b[1;34m\"Sandra\"\u001b[0m\u001b[1;33m)\u001b[0m\u001b[1;33m:\u001b[0m\u001b[1;33m\u001b[0m\u001b[1;33m\u001b[0m\u001b[0m\n\u001b[0m\u001b[0;32m      2\u001b[0m     \u001b[0mteacher_Info\u001b[0m\u001b[1;33m=\u001b[0m\u001b[0mteachers_dict\u001b[0m\u001b[1;33m[\u001b[0m\u001b[0mi\u001b[0m\u001b[1;33m]\u001b[0m\u001b[1;33m\u001b[0m\u001b[1;33m\u001b[0m\u001b[0m\n\u001b[0;32m      3\u001b[0m     \u001b[0mprint\u001b[0m\u001b[1;33m(\u001b[0m \u001b[0mi\u001b[0m \u001b[1;33m+\u001b[0m \u001b[1;34m\"is\"\u001b[0m \u001b[1;33m+\u001b[0m \u001b[0mstr\u001b[0m\u001b[1;33m(\u001b[0m\u001b[0mj\u001b[0m\u001b[1;33m)\u001b[0m\u001b[1;33m)\u001b[0m\u001b[1;33m\u001b[0m\u001b[1;33m\u001b[0m\u001b[0m\n",
      "\u001b[1;31mTypeError\u001b[0m: dict.items() takes no arguments (1 given)"
     ]
    }
   ],
   "source": [
    "for i,j in teachers_dict.items(\"Sandra\"):\n",
    "    teacher_Info=teachers_dict[i]\n",
    "    print( i + \"is\" + str(j))"
   ]
  },
  {
   "cell_type": "code",
   "execution_count": null,
   "id": "7cb8a954",
   "metadata": {},
   "outputs": [],
   "source": [
    "for i in teachers_dict.keys():\n",
    "    teacher_Info=teachers_dict[i]\n",
    "    if teacher_Info[\"role\"] == \"Berlin\":\n",
    "        print(teacher + \" lives in Berlin\")"
   ]
  },
  {
   "cell_type": "code",
   "execution_count": null,
   "id": "0f61fdc0",
   "metadata": {},
   "outputs": [],
   "source": [
    "teachers_dict = {\n",
    "    \n",
    "    \"Aleks\":{\n",
    "        \"age\":18,\n",
    "        \"role\":\"LT\",\n",
    "        \"city_residence\":\"Berlin\"\n",
    "    },\n",
    "    \"Sandra\":{\n",
    "        \"age\": 19,\n",
    "        \"role\":\"TA\",\n",
    "        \"city_residence\":\"Mexico City\"\n",
    "    }\n",
    "}\n",
    "\n",
    "Sandra = {\n",
    "        \"age\": 19,\n",
    "        \"role\":\"TA\",\n",
    "        \"city_residence\":\"Mexico City\"\n",
    "\n",
    "\n"
   ]
  }
 ],
 "metadata": {
  "kernelspec": {
   "display_name": "Python 3 (ipykernel)",
   "language": "python",
   "name": "python3"
  },
  "language_info": {
   "codemirror_mode": {
    "name": "ipython",
    "version": 3
   },
   "file_extension": ".py",
   "mimetype": "text/x-python",
   "name": "python",
   "nbconvert_exporter": "python",
   "pygments_lexer": "ipython3",
   "version": "3.9.13"
  }
 },
 "nbformat": 4,
 "nbformat_minor": 5
}
